{
 "cells": [
  {
   "cell_type": "markdown",
   "metadata": {},
   "source": [
    "# Prepare Qiskit Challenge 2021\n",
    "#### --reference:\n",
    "* [qiskit introduction](https://qiskit.org/textbook/ch-states/atoms-computation.html)"
   ]
  },
  {
   "cell_type": "markdown",
   "metadata": {},
   "source": [
    "## Create Qiskit Circuit and draw"
   ]
  },
  {
   "cell_type": "code",
   "execution_count": 1,
   "metadata": {},
   "outputs": [
    {
     "data": {
      "text/html": [
       "<pre style=\"word-wrap: normal;white-space: pre;background: #fff0;line-height: 1.1;font-family: &quot;Courier New&quot;,Courier,monospace\">           ░ ┌─┐                     \n",
       "  q_0: |0>─░─┤M├─────────────────────\n",
       "           ░ └╥┘┌─┐                  \n",
       "  q_1: |0>─░──╫─┤M├──────────────────\n",
       "           ░  ║ └╥┘┌─┐               \n",
       "  q_2: |0>─░──╫──╫─┤M├───────────────\n",
       "           ░  ║  ║ └╥┘┌─┐            \n",
       "  q_3: |0>─░──╫──╫──╫─┤M├────────────\n",
       "           ░  ║  ║  ║ └╥┘┌─┐         \n",
       "  q_4: |0>─░──╫──╫──╫──╫─┤M├─────────\n",
       "           ░  ║  ║  ║  ║ └╥┘┌─┐      \n",
       "  q_5: |0>─░──╫──╫──╫──╫──╫─┤M├──────\n",
       "           ░  ║  ║  ║  ║  ║ └╥┘┌─┐   \n",
       "  q_6: |0>─░──╫──╫──╫──╫──╫──╫─┤M├───\n",
       "           ░  ║  ║  ║  ║  ║  ║ └╥┘┌─┐\n",
       "  q_7: |0>─░──╫──╫──╫──╫──╫──╫──╫─┤M├\n",
       "           ░  ║  ║  ║  ║  ║  ║  ║ └╥┘\n",
       "meas: 0 8/════╩══╩══╩══╩══╩══╩══╩══╩═\n",
       "              0  1  2  3  4  5  6  7 </pre>"
      ],
      "text/plain": [
       "           ░ ┌─┐                     \n",
       "  q_0: |0>─░─┤M├─────────────────────\n",
       "           ░ └╥┘┌─┐                  \n",
       "  q_1: |0>─░──╫─┤M├──────────────────\n",
       "           ░  ║ └╥┘┌─┐               \n",
       "  q_2: |0>─░──╫──╫─┤M├───────────────\n",
       "           ░  ║  ║ └╥┘┌─┐            \n",
       "  q_3: |0>─░──╫──╫──╫─┤M├────────────\n",
       "           ░  ║  ║  ║ └╥┘┌─┐         \n",
       "  q_4: |0>─░──╫──╫──╫──╫─┤M├─────────\n",
       "           ░  ║  ║  ║  ║ └╥┘┌─┐      \n",
       "  q_5: |0>─░──╫──╫──╫──╫──╫─┤M├──────\n",
       "           ░  ║  ║  ║  ║  ║ └╥┘┌─┐   \n",
       "  q_6: |0>─░──╫──╫──╫──╫──╫──╫─┤M├───\n",
       "           ░  ║  ║  ║  ║  ║  ║ └╥┘┌─┐\n",
       "  q_7: |0>─░──╫──╫──╫──╫──╫──╫──╫─┤M├\n",
       "           ░  ║  ║  ║  ║  ║  ║  ║ └╥┘\n",
       "meas: 0 8/════╩══╩══╩══╩══╩══╩══╩══╩═\n",
       "              0  1  2  3  4  5  6  7 "
      ]
     },
     "execution_count": 1,
     "metadata": {},
     "output_type": "execute_result"
    }
   ],
   "source": [
    "# Create simple circuit and simple draw\n",
    "from qiskit import QuantumCircuit, assemble, Aer\n",
    "from qiskit.visualization import plot_histogram\n",
    "qc_output = QuantumCircuit(8)\n",
    "qc_output.measure_all()\n",
    "qc_output.draw(initial_state=True)"
   ]
  },
  {
   "cell_type": "code",
   "execution_count": 3,
   "metadata": {},
   "outputs": [
    {
     "data": {
      "image/png": "[encoded data removed]",
      "text/plain": [
       "<Figure size 504x360 with 1 Axes>"
      ]
     },
     "execution_count": 3,
     "metadata": {},
     "output_type": "execute_result"
    },
    {
     "data": {
      "image/png": "[encoded data removed]",
      "text/plain": [
       "<Figure size 504x360 with 1 Axes>"
      ]
     },
     "metadata": {
      "needs_background": "light"
     },
     "output_type": "display_data"
    }
   ],
   "source": [
    "sim = Aer.get_backend(\"aer_simulator\")\n",
    "result = sim.run(qc_output).result()\n",
    "counts = result.get_counts()\n",
    "plot_histogram(counts)"
   ]
  },
  {
   "cell_type": "code",
   "execution_count": 8,
   "metadata": {},
   "outputs": [
    {
     "data": {
      "text/html": [
       "<pre style=\"word-wrap: normal;white-space: pre;background: #fff0;line-height: 1.1;font-family: &quot;Courier New&quot;,Courier,monospace\">     ┌───┐     ┌─┐   \n",
       "q_0: ┤ X ├──■──┤M├───\n",
       "     └───┘┌─┴─┐└╥┘┌─┐\n",
       "q_1: ─────┤ X ├─╫─┤M├\n",
       "          └───┘ ║ └╥┘\n",
       "c: 2/═══════════╩══╩═\n",
       "                0  1 </pre>"
      ],
      "text/plain": [
       "     ┌───┐     ┌─┐   \n",
       "q_0: ┤ X ├──■──┤M├───\n",
       "     └───┘┌─┴─┐└╥┘┌─┐\n",
       "q_1: ─────┤ X ├─╫─┤M├\n",
       "          └───┘ ║ └╥┘\n",
       "c: 2/═══════════╩══╩═\n",
       "                0  1 "
      ]
     },
     "execution_count": 8,
     "metadata": {},
     "output_type": "execute_result"
    }
   ],
   "source": [
    "# create Circuit with classical bits\n",
    "n_qbits = 2\n",
    "n_cbits = 2\n",
    "fst_qubit, fst_cbit = 0, 0\n",
    "sec_qubit, sec_cbit  = 1, 1\n",
    "\n",
    "qc = QuantumCircuit(n_qbits, n_cbits)\n",
    "qc.x(fst_qubit)\n",
    "qc.cx(fst_qubit, sec_qubit)\n",
    "qc.measure(fst_qubit, fst_cbit)\n",
    "qc.measure(sec_qubit, sec_cbit)\n",
    "qc.draw()"
   ]
  },
  {
   "cell_type": "markdown",
   "metadata": {},
   "source": [
    "## Qiskit Gates"
   ]
  },
  {
   "cell_type": "code",
   "execution_count": 9,
   "metadata": {},
   "outputs": [
    {
     "data": {
      "text/html": [
       "<pre style=\"word-wrap: normal;white-space: pre;background: #fff0;line-height: 1.1;font-family: &quot;Courier New&quot;,Courier,monospace\">     ┌───┐ ░            ░       \n",
       "q_0: ┤ X ├─░───■────■───░───────\n",
       "     └───┘ ░ ┌─┴─┐  │   ░       \n",
       "q_1: ──────░─┤ X ├──■───░───────\n",
       "           ░ └───┘┌─┴─┐ ░ ┌─┐   \n",
       "q_2: ──────░──────┤ X ├─░─┤M├───\n",
       "           ░      └───┘ ░ └╥┘┌─┐\n",
       "q_3: ──────░────────────░──╫─┤M├\n",
       "           ░            ░  ║ └╥┘\n",
       "c: 2/══════════════════════╩══╩═\n",
       "                           0  1 </pre>"
      ],
      "text/plain": [
       "     ┌───┐ ░            ░       \n",
       "q_0: ┤ X ├─░───■────■───░───────\n",
       "     └───┘ ░ ┌─┴─┐  │   ░       \n",
       "q_1: ──────░─┤ X ├──■───░───────\n",
       "           ░ └───┘┌─┴─┐ ░ ┌─┐   \n",
       "q_2: ──────░──────┤ X ├─░─┤M├───\n",
       "           ░      └───┘ ░ └╥┘┌─┐\n",
       "q_3: ──────░────────────░──╫─┤M├\n",
       "           ░            ░  ║ └╥┘\n",
       "c: 2/══════════════════════╩══╩═\n",
       "                           0  1 "
      ]
     },
     "execution_count": 9,
     "metadata": {},
     "output_type": "execute_result"
    }
   ],
   "source": [
    "# NOT gate\n",
    "qc_mnot = QuantumCircuit(4, 2)\n",
    "qc_mnot.x(0)\n",
    "qc_mnot.barrier()\n",
    "# CNOT gate\n",
    "qc_mnot.cx(0, 1) # (control qubit, target qubit)\n",
    "# CCNOT gate\n",
    "qc_mnot.ccx(0, 1, 2) # (control qubit, control qubit, target qubit)\n",
    "qc_mnot.barrier()\n",
    "# measure\n",
    "qc_mnot.measure(2, 0)\n",
    "qc_mnot.measure(3, 1)\n",
    "qc_mnot.draw()"
   ]
  },
  {
   "cell_type": "markdown",
   "metadata": {},
   "source": [
    "## [State Vector](https://qiskit.org/textbook/ch-states/representing-qubit-states.html)"
   ]
  },
  {
   "cell_type": "code",
   "execution_count": 13,
   "metadata": {},
   "outputs": [
    {
     "name": "stdout",
     "output_type": "stream",
     "text": [
      "output state vector:  [0.+0.j 1.+0.j]\n",
      "output histogram\n"
     ]
    },
    {
     "data": {
      "image/png": "[encoded data removed]",
      "text/plain": [
       "<Figure size 504x360 with 1 Axes>"
      ]
     },
     "execution_count": 13,
     "metadata": {},
     "output_type": "execute_result"
    },
    {
     "data": {
      "image/png": "[encoded data removed]",
      "text/plain": [
       "<Figure size 504x360 with 1 Axes>"
      ]
     },
     "metadata": {
      "needs_background": "light"
     },
     "output_type": "display_data"
    }
   ],
   "source": [
    "from qiskit import QuantumCircuit, assemble, Aer\n",
    "from qiskit.visualization import plot_histogram, plot_bloch_vector\n",
    "from math import sqrt, pi\n",
    "\n",
    "coeff1, coeff2 = 0, 1 # or\n",
    "i_qubit = 0\n",
    "# coeff1, coeff2 = 0 + 0j, 1 + 0j # j stands for indeterminate\n",
    "qc_stv = QuantumCircuit(1)\n",
    "initial_state = [coeff1, coeff2]\n",
    "qc_stv.initialize(initial_state, i_qubit)\n",
    "# save state vector for result\n",
    "qc_stv.save_statevector()\n",
    "rlt = sim.run(qc_stv).result()\n",
    "# output state vector\n",
    "out_state = rlt.get_statevector()\n",
    "print(\"output state vector: \", out_state)\n",
    "#output histogram\n",
    "counts = rlt.get_counts()\n",
    "print(\"output histogram:\")\n",
    "plot_histogram(counts)\n"
   ]
  },
  {
   "cell_type": "code",
   "execution_count": 14,
   "metadata": {},
   "outputs": [
    {
     "ename": "TypeError",
     "evalue": "'list' object is not callable",
     "output_type": "error",
     "traceback": [
      "\u001b[1;31m---------------------------------------------------------------------------\u001b[0m",
      "\u001b[1;31mTypeError\u001b[0m                                 Traceback (most recent call last)",
      "\u001b[1;32m~\\AppData\\Local\\Temp/ipykernel_39272/590220807.py\u001b[0m in \u001b[0;36m<module>\u001b[1;34m\u001b[0m\n\u001b[0;32m      2\u001b[0m \u001b[0minitial_state\u001b[0m \u001b[1;33m=\u001b[0m \u001b[1;33m[\u001b[0m\u001b[1;36m1\u001b[0m\u001b[1;33m/\u001b[0m\u001b[0msqrt\u001b[0m\u001b[1;33m(\u001b[0m\u001b[1;36m2\u001b[0m\u001b[1;33m)\u001b[0m\u001b[1;33m,\u001b[0m \u001b[1;36m1j\u001b[0m\u001b[1;33m/\u001b[0m\u001b[0msqrt\u001b[0m\u001b[1;33m(\u001b[0m\u001b[1;36m2\u001b[0m\u001b[1;33m)\u001b[0m\u001b[1;33m]\u001b[0m\u001b[1;33m\u001b[0m\u001b[1;33m\u001b[0m\u001b[0m\n\u001b[0;32m      3\u001b[0m \u001b[0mqc_stv1\u001b[0m \u001b[1;33m=\u001b[0m \u001b[0mQuantumCircuit\u001b[0m\u001b[1;33m(\u001b[0m\u001b[1;36m1\u001b[0m\u001b[1;33m)\u001b[0m\u001b[1;33m\u001b[0m\u001b[1;33m\u001b[0m\u001b[0m\n\u001b[1;32m----> 4\u001b[1;33m \u001b[0mqc_stv1\u001b[0m \u001b[1;33m=\u001b[0m \u001b[0minitial_state\u001b[0m\u001b[1;33m(\u001b[0m\u001b[0minitial_state\u001b[0m\u001b[1;33m,\u001b[0m \u001b[1;36m0\u001b[0m\u001b[1;33m)\u001b[0m\u001b[1;33m\u001b[0m\u001b[1;33m\u001b[0m\u001b[0m\n\u001b[0m\u001b[0;32m      5\u001b[0m \u001b[0mqc_stv1\u001b[0m\u001b[1;33m.\u001b[0m\u001b[0msave_statevector\u001b[0m\u001b[1;33m(\u001b[0m\u001b[1;33m)\u001b[0m\u001b[1;33m\u001b[0m\u001b[1;33m\u001b[0m\u001b[0m\n\u001b[0;32m      6\u001b[0m \u001b[0mprint\u001b[0m\u001b[1;33m(\u001b[0m\u001b[0msim\u001b[0m\u001b[1;33m.\u001b[0m\u001b[0mrun\u001b[0m\u001b[1;33m(\u001b[0m\u001b[0mqc_stv1\u001b[0m\u001b[1;33m)\u001b[0m\u001b[1;33m.\u001b[0m\u001b[0mresult\u001b[0m\u001b[1;33m(\u001b[0m\u001b[1;33m)\u001b[0m\u001b[1;33m.\u001b[0m\u001b[0mget_statevector\u001b[0m\u001b[1;33m(\u001b[0m\u001b[1;33m)\u001b[0m\u001b[1;33m)\u001b[0m\u001b[1;33m\u001b[0m\u001b[1;33m\u001b[0m\u001b[0m\n",
      "\u001b[1;31mTypeError\u001b[0m: 'list' object is not callable"
     ]
    }
   ],
   "source": [
    "# other initial state\n",
    "initial_state = [1/sqrt(2), 1j/sqrt(2)]\n",
    "qc_stv1 = QuantumCircuit(1)\n",
    "qc_stv1.initialize(initial_state, 0)\n",
    "qc_stv1.save_statevector()\n",
    "print(sim.run(qc_stv1).result().get_statevector())\n",
    "\n"
   ]
  },
  {
   "cell_type": "markdown",
   "metadata": {},
   "source": []
  }
 ],
 "metadata": {
  "interpreter": {
   "hash": "8d86c190dfcadcdaa67edec4a1ea82702241987b5b1f320c920d3d4ca36fee5b"
  },
  "kernelspec": {
   "display_name": "Python 3.8.5 64-bit ('base': conda)",
   "name": "python3"
  },
  "language_info": {
   "codemirror_mode": {
    "name": "ipython",
    "version": 3
   },
   "file_extension": ".py",
   "mimetype": "text/x-python",
   "name": "python",
   "nbconvert_exporter": "python",
   "pygments_lexer": "ipython3",
   "version": "3.8.5"
  },
  "orig_nbformat": 4
 },
 "nbformat": 4,
 "nbformat_minor": 2
}
